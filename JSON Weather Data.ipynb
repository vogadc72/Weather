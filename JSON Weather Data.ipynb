{
 "cells": [
  {
   "cell_type": "code",
   "execution_count": 1,
   "id": "6ade11aa-219e-47b0-bcad-a9167180188b",
   "metadata": {},
   "outputs": [],
   "source": [
    "import requests\n",
    "import json"
   ]
  },
  {
   "cell_type": "code",
   "execution_count": 2,
   "id": "cd5df714-1d6b-4a0b-b4f4-017619b1a74e",
   "metadata": {},
   "outputs": [
    {
     "name": "stdout",
     "output_type": "stream",
     "text": [
      "Max Temp: 56.0 °F\n",
      "Min Temp: 44.0 °F\n",
      "Wind Speed: 6.8999999999999995 mph\n",
      "Visibility: 10.0 miles\n",
      "The current temperature at Buffalo Airport is 55.0°F\n"
     ]
    }
   ],
   "source": [
    "\n",
    "url = \"https://mesonet.agron.iastate.edu/json/current.py?station=BUF&network=NY_ASOS\"\n",
    "\n",
    "# Get the data from the URL\n",
    "response = requests.get(url)\n",
    "\n",
    "# Parse the JSON data\n",
    "data = response.json()\n",
    "\n",
    "# Extract the temperature\n",
    "temperature = data['last_ob']['airtemp[F]']\n",
    "max_temp = data['last_ob']['max_dayairtemp[F]']\n",
    "min_temp = data['last_ob']['min_dayairtemp[F]']\n",
    "vis = data['last_ob']['visibility[mile]']\n",
    "wind_speed = data['last_ob']['windspeed[kt]']\n",
    "\n",
    "\n",
    "print(\"Max Temp:\", max_temp, \"°F\")\n",
    "print(\"Min Temp:\", min_temp, \"°F\")\n",
    "print(\"Wind Speed:\", wind_speed * 1.15, \"mph\")\n",
    "print(\"Visibility:\", vis, \"miles\")\n",
    "# Print the temperature\n",
    "print(f\"The current temperature at Buffalo Airport is {temperature}°F\")\n",
    "\n",
    "\n",
    "#print(json.dumps(data, indent=2))\n",
    "\n"
   ]
  },
  {
   "cell_type": "code",
   "execution_count": null,
   "id": "0adbf98f-6dda-4920-9d4c-c6993a665a12",
   "metadata": {},
   "outputs": [],
   "source": []
  },
  {
   "cell_type": "code",
   "execution_count": null,
   "id": "777c067e-a38b-4ef4-9c2e-e306590b3d5e",
   "metadata": {},
   "outputs": [],
   "source": []
  },
  {
   "cell_type": "code",
   "execution_count": null,
   "id": "9c1ce51b-9cdf-46ca-ba5f-828a7a4e4f3d",
   "metadata": {},
   "outputs": [],
   "source": []
  }
 ],
 "metadata": {
  "kernelspec": {
   "display_name": "Python [conda env:base]",
   "language": "python",
   "name": "conda-base-py"
  },
  "language_info": {
   "codemirror_mode": {
    "name": "ipython",
    "version": 3
   },
   "file_extension": ".py",
   "mimetype": "text/x-python",
   "name": "python",
   "nbconvert_exporter": "python",
   "pygments_lexer": "ipython3",
   "version": "3.12.3"
  }
 },
 "nbformat": 4,
 "nbformat_minor": 5
}
