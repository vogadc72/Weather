{
 "cells": [
  {
   "cell_type": "code",
   "execution_count": 1,
   "id": "2788716f-af5b-43ef-8c6f-750424f788d6",
   "metadata": {},
   "outputs": [
    {
     "name": "stdout",
     "output_type": "stream",
     "text": [
      "Average High: 62.033112582781456\n",
      "Maximum High: 85\n",
      "Minimum Low: 29\n"
     ]
    }
   ],
   "source": [
    "import requests\n",
    "import json\n",
    "\n",
    "# URL to get the data\n",
    "url = \"https://mesonet.agron.iastate.edu/json/climodat_stclimo.py?station=NYTBUF\"\n",
    "\n",
    "# Get the data from the URL\n",
    "response = requests.get(url)\n",
    "\n",
    "# Parse the response as JSON\n",
    "data = response.json()\n",
    "\n",
    "# Loop through the data to find the entry for month 5, day 27\n",
    "for entry in data['climatology']:\n",
    "    if entry['month'] == 10 and entry['day'] == 10:\n",
    "        avg_high = entry['avg_high']\n",
    "        max_high = entry['max_high']\n",
    "        min_low = entry['min_low']\n",
    "        \n",
    "        print(\"Average High:\", avg_high)\n",
    "        print(\"Maximum High:\", max_high)\n",
    "        print(\"Minimum Low:\", min_low)\n",
    "        break  # Exit the loop once the match is found\n",
    "\n",
    "\n",
    "\n"
   ]
  },
  {
   "cell_type": "code",
   "execution_count": null,
   "id": "ee0fda39-c7d1-42af-9881-7a020c881c36",
   "metadata": {},
   "outputs": [],
   "source": []
  }
 ],
 "metadata": {
  "kernelspec": {
   "display_name": "Python [conda env:base]",
   "language": "python",
   "name": "conda-base-py"
  },
  "language_info": {
   "codemirror_mode": {
    "name": "ipython",
    "version": 3
   },
   "file_extension": ".py",
   "mimetype": "text/x-python",
   "name": "python",
   "nbconvert_exporter": "python",
   "pygments_lexer": "ipython3",
   "version": "3.12.3"
  }
 },
 "nbformat": 4,
 "nbformat_minor": 5
}
